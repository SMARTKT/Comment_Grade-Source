{
 "cells": [
  {
   "cell_type": "code",
   "execution_count": 14,
   "metadata": {},
   "outputs": [],
   "source": [
    "import pandas as pd\n",
    "import numpy as np\n",
    "import os\n",
    "import xlsxwriter"
   ]
  },
  {
   "cell_type": "code",
   "execution_count": 16,
   "metadata": {},
   "outputs": [],
   "source": [
    "CORE_RESPONSES_old = pd.read_excel('all_results_categories.xlsx')\n",
    "\n",
    "CORE_RESPONSES1 = CORE_RESPONSES_old.loc[(CORE_RESPONSES_old['Categories Matches'].isin(['Working Summary', 'Junk/Copy', 'Num Program Domain', 'Design And Development', 'Operational', 'Num Problem Domain', 'Author Details', 'Scope score', 'Description of Dataset', 'Build Instruction', 'POS Tags Score', 'Comment Placement', 'AST Symbols', 'Exception','Num Comments Tokens', 'Conditional', 'Prog. Dom. Identifier Matches', 'Prob. Dom. Identifier Matches', 'Build details']))]\n",
    "\n",
    "\n",
    "CORE_RESPONSES1.to_csv('all_results_corrected_20340.csv')\n",
    "\n",
    "CORE_RESPONSES2 = CORE_RESPONSES_old.loc[(~CORE_RESPONSES_old['Categories Matches'].isin(['Working Summary', 'Junk/Copy', 'Num Program Domain', 'Design And Development', 'Operational', 'Num Problem Domain', 'Author Details', 'Scope score', 'Description of Dataset', 'Build Instruction', 'POS Tags Score', 'Comment Placement', 'AST Symbols', 'Exception','Num Comments Tokens', 'Conditional', 'Prog. Dom. Identifier Matches', 'Prob. Dom. Identifier Matches', 'Build details']))]\n",
    "\n",
    "\n",
    "CORE_RESPONSES2.to_csv('temp.csv')"
   ]
  },
  {
   "cell_type": "code",
   "execution_count": 17,
   "metadata": {},
   "outputs": [],
   "source": [
    "\n",
    "\n",
    "CORE_RESPONSES = pd.read_excel('all_results_corrected_20340_latest.xlsx')"
   ]
  },
  {
   "cell_type": "code",
   "execution_count": 4,
   "metadata": {},
   "outputs": [
    {
     "name": "stdout",
     "output_type": "stream",
     "text": [
      "0         True\n",
      "1         True\n",
      "2        False\n",
      "3         True\n",
      "4        False\n",
      "         ...  \n",
      "20301     True\n",
      "20302    False\n",
      "20303    False\n",
      "20304     True\n",
      "20305    False\n",
      "Name: Filename, Length: 20306, dtype: bool\n"
     ]
    }
   ],
   "source": [
    "print(df_lib)"
   ]
  },
  {
   "cell_type": "code",
   "execution_count": 5,
   "metadata": {},
   "outputs": [],
   "source": [
    "workbook = xlsxwriter.Workbook('libpng_stat.xlsx')\n",
    "ws = workbook.add_worksheet()"
   ]
  },
  {
   "cell_type": "code",
   "execution_count": 18,
   "metadata": {},
   "outputs": [],
   "source": [
    "df_lib = CORE_RESPONSES['Filename'].str.contains(\"libpng\") \n",
    "\n",
    "df_actual_libpng = CORE_RESPONSES[df_lib]\n",
    "df_actual_libpng1 = df_actual_libpng.loc[(df_actual_libpng['Actual'].isin([1,2,0])) & (df_actual_libpng['Predicted'].isin([1,2,0]))]"
   ]
  },
  {
   "cell_type": "code",
   "execution_count": 6,
   "metadata": {},
   "outputs": [
    {
     "name": "stdout",
     "output_type": "stream",
     "text": [
      "                                            Filename  \\\n",
      "0      repos/libpng-code/contrib/libtests/pngstest.c   \n",
      "1      repos/libpng-code/contrib/libtests/pngvalid.c   \n",
      "3                       repos/libpng-code/pngrutil.c   \n",
      "13     repos/libpng-code/contrib/libtests/pngvalid.c   \n",
      "29                      repos/libpng-code/pngrtran.c   \n",
      "...                                              ...   \n",
      "20283                   repos/libpng-code/pngrutil.c   \n",
      "20291       repos/libpng-code/contrib/tools/pngfix.c   \n",
      "20294        repos/libpng-code/contrib/tools/pngcp.c   \n",
      "20301       repos/libpng-code/contrib/tools/pngfix.c   \n",
      "20304  repos/libpng-code/contrib/libtests/pngvalid.c   \n",
      "\n",
      "                                                 Comment Actual Predicted  \\\n",
      "0                     bckg: composite on gray background      2         2   \n",
      "1                                          In range 0..1      1         1   \n",
      "3      In fact it is an error if it isn't supported, ...      2         2   \n",
      "13                                          do_interlace      0         0   \n",
      "29     Transform the row.  The order of transformatio...      2         2   \n",
      "...                                                  ...    ...       ...   \n",
      "20283                                            PRIVATE      1         1   \n",
      "20291                     Move on to the next IDAT_list:      1         1   \n",
      "20294                                            iterate      1         1   \n",
      "20301              *END* of the list of IDAT information      1         1   \n",
      "20304                                png_set_gray_to_rgb      2         2   \n",
      "\n",
      "      Unnamed: 4 Unnamed: 5 Unnamed: 6 Unnamed: 7  Unnamed: 8  Unnamed: 9  \n",
      "0            NaN        NaN        NaN        NaN         NaN         NaN  \n",
      "1            NaN        NaN        NaN        NaN         NaN         NaN  \n",
      "3            NaN        NaN        NaN        NaN         NaN         NaN  \n",
      "13           NaN        NaN        NaN        NaN         NaN         NaN  \n",
      "29           NaN        NaN        NaN        NaN         NaN         NaN  \n",
      "...          ...        ...        ...        ...         ...         ...  \n",
      "20283        NaN        NaN        NaN        NaN         NaN         NaN  \n",
      "20291        NaN        NaN        NaN        NaN         NaN         NaN  \n",
      "20294        NaN        NaN        NaN        NaN         NaN         NaN  \n",
      "20301        NaN        NaN        NaN        NaN         NaN         NaN  \n",
      "20304        NaN        NaN        NaN        NaN         NaN         NaN  \n",
      "\n",
      "[5929 rows x 10 columns]\n"
     ]
    }
   ],
   "source": [
    "print(df_actual_libpng)"
   ]
  },
  {
   "cell_type": "code",
   "execution_count": 19,
   "metadata": {},
   "outputs": [
    {
     "name": "stdout",
     "output_type": "stream",
     "text": [
      "2    2674\n",
      "1    2162\n",
      "0    1058\n",
      "Name: Predicted, dtype: int64\n",
      "2.0    2659\n",
      "1.0    2136\n",
      "0.0    1099\n",
      "Name: Actual, dtype: int64\n"
     ]
    }
   ],
   "source": [
    "df_actual_libpng1.to_csv('libpng_data.csv')\n",
    "\n",
    "print (df_actual_libpng1['Predicted'].value_counts())\n",
    "print (df_actual_libpng1['Actual'].value_counts())"
   ]
  },
  {
   "cell_type": "code",
   "execution_count": 21,
   "metadata": {},
   "outputs": [
    {
     "name": "stdout",
     "output_type": "stream",
     "text": [
      "2.0    1812\n",
      "0.0    1084\n",
      "1.0     885\n",
      "Name: Actual, dtype: int64\n",
      "2    1871\n",
      "0    1069\n",
      "1     841\n",
      "Name: Predicted, dtype: int64\n"
     ]
    }
   ],
   "source": [
    "df_lib = CORE_RESPONSES['Filename'].str.contains(\"curl\") \n",
    "df_actual_curl = CORE_RESPONSES[df_lib]\n",
    "df_actual_curl1 = df_actual_curl.loc[(df_actual_curl['Actual'].isin([1,2,0])) & (df_actual_curl['Predicted'].isin([1,2,0]))]\n",
    "df_actual_curl1.to_csv('curl_data.csv')\n",
    "\n",
    "print (df_actual_curl1['Actual'].value_counts())\n",
    "print (df_actual_curl1['Predicted'].value_counts())"
   ]
  },
  {
   "cell_type": "code",
   "execution_count": 22,
   "metadata": {},
   "outputs": [
    {
     "name": "stdout",
     "output_type": "stream",
     "text": [
      "2.0    2148\n",
      "0.0    1259\n",
      "1.0     653\n",
      "Name: Actual, dtype: int64\n",
      "2    2101\n",
      "0    1296\n",
      "1     663\n",
      "Name: Predicted, dtype: int64\n"
     ]
    }
   ],
   "source": [
    "df_lib = CORE_RESPONSES['Filename'].str.contains(\"mariadb\") \n",
    "df_actual_mariadb = CORE_RESPONSES[df_lib]\n",
    "df_actual_mariadb1 = df_actual_mariadb.loc[(df_actual_mariadb['Actual'].isin([1,2,0])) & (df_actual_mariadb['Predicted'].isin([1,2,0]))]\n",
    "df_actual_mariadb1.to_csv('mariadb_data.csv')\n",
    "\n",
    "print (df_actual_mariadb1['Actual'].value_counts())\n",
    "print (df_actual_mariadb1['Predicted'].value_counts())"
   ]
  },
  {
   "cell_type": "code",
   "execution_count": 23,
   "metadata": {},
   "outputs": [
    {
     "name": "stdout",
     "output_type": "stream",
     "text": [
      "2.0    2151\n",
      "1.0    1049\n",
      "0.0     707\n",
      "Name: Actual, dtype: int64\n",
      "2    2160\n",
      "1    1044\n",
      "0     703\n",
      "Name: Predicted, dtype: int64\n"
     ]
    }
   ],
   "source": [
    "df_lib = CORE_RESPONSES['Filename'].str.contains(\"dealii\") \n",
    "df_actual_dealii = CORE_RESPONSES[df_lib]\n",
    "\n",
    "df_actual_dealii1 = df_actual_dealii.loc[(df_actual_dealii['Actual'].isin([1,2,0])) & (df_actual_dealii['Predicted'].isin([1,2,0]))]\n",
    "df_actual_dealii1.to_csv('dealii_data.csv')\n",
    "\n",
    "#print (df_actual_dealii['Predicted'].value_counts())\n",
    "print (df_actual_dealii1['Actual'].value_counts())\n",
    "print (df_actual_dealii1['Predicted'].value_counts())"
   ]
  },
  {
   "cell_type": "code",
   "execution_count": 24,
   "metadata": {},
   "outputs": [
    {
     "name": "stdout",
     "output_type": "stream",
     "text": [
      "2.0    1607\n",
      "1.0     542\n",
      "0.0     415\n",
      "Name: Actual, dtype: int64\n",
      "2    1574\n",
      "1     583\n",
      "0     407\n",
      "Name: Predicted, dtype: int64\n"
     ]
    }
   ],
   "source": [
    "df_lib = CORE_RESPONSES['Filename'].str.contains(\"PLplot\") \n",
    "df_actual_PLplot = CORE_RESPONSES[df_lib]\n",
    "df_actual_PLplot1 = df_actual_PLplot.loc[(df_actual_PLplot['Actual'].isin([1,2,0])) & (df_actual_PLplot['Predicted'].isin([1,2,0]))]\n",
    "df_actual_PLplot1.to_csv('PLplot_data.csv')\n",
    "print (df_actual_PLplot1['Actual'].value_counts())\n",
    "print (df_actual_PLplot1['Predicted'].value_counts())"
   ]
  },
  {
   "cell_type": "code",
   "execution_count": null,
   "metadata": {},
   "outputs": [],
   "source": []
  }
 ],
 "metadata": {
  "kernelspec": {
   "display_name": "Python [conda env:srijoni_python] *",
   "language": "python",
   "name": "conda-env-srijoni_python-py"
  },
  "language_info": {
   "codemirror_mode": {
    "name": "ipython",
    "version": 3
   },
   "file_extension": ".py",
   "mimetype": "text/x-python",
   "name": "python",
   "nbconvert_exporter": "python",
   "pygments_lexer": "ipython3",
   "version": "3.8.1"
  }
 },
 "nbformat": 4,
 "nbformat_minor": 4
}
