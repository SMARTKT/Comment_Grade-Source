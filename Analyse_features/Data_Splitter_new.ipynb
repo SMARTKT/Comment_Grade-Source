{
 "cells": [
  {
   "cell_type": "code",
   "execution_count": 3,
   "metadata": {},
   "outputs": [],
   "source": [
    "import pandas as pd\n",
    "import numpy as np\n",
    "import os\n",
    "import xlsxwriter"
   ]
  },
  {
   "cell_type": "code",
   "execution_count": 4,
   "metadata": {},
   "outputs": [],
   "source": [
    "CORE_RESPONSES = pd.read_excel('all_results_unnormalized_previous.xlsx')"
   ]
  },
  {
   "cell_type": "code",
   "execution_count": 5,
   "metadata": {},
   "outputs": [],
   "source": [
    "df_lib = CORE_RESPONSES['Filename'].str.contains(\"libpng\") "
   ]
  },
  {
   "cell_type": "code",
   "execution_count": 6,
   "metadata": {},
   "outputs": [
    {
     "name": "stdout",
     "output_type": "stream",
     "text": [
      "0         True\n",
      "1        False\n",
      "2        False\n",
      "3        False\n",
      "4        False\n",
      "         ...  \n",
      "20301    False\n",
      "20302    False\n",
      "20303    False\n",
      "20304    False\n",
      "20305    False\n",
      "Name: Filename, Length: 20306, dtype: bool\n"
     ]
    }
   ],
   "source": [
    "print(df_lib)"
   ]
  },
  {
   "cell_type": "code",
   "execution_count": 7,
   "metadata": {},
   "outputs": [],
   "source": [
    "workbook = xlsxwriter.Workbook('libpng_stat.xlsx')\n",
    "ws = workbook.add_worksheet()"
   ]
  },
  {
   "cell_type": "code",
   "execution_count": 8,
   "metadata": {},
   "outputs": [],
   "source": [
    "df_actual_libpng = CORE_RESPONSES[df_lib]"
   ]
  },
  {
   "cell_type": "code",
   "execution_count": 9,
   "metadata": {},
   "outputs": [
    {
     "name": "stdout",
     "output_type": "stream",
     "text": [
      "                                               Filename  \\\n",
      "0         repos/libpng-code/contrib/libtests/pngvalid.c   \n",
      "5         repos/libpng-code/contrib/libtests/pngvalid.c   \n",
      "16                           repos/libpng-code/pngset.c   \n",
      "23        repos/libpng-code/contrib/libtests/pngvalid.c   \n",
      "27        repos/libpng-code/contrib/libtests/pngstest.c   \n",
      "...                                                 ...   \n",
      "20276     repos/libpng-code/contrib/libtests/pngvalid.c   \n",
      "20283  repos/libpng-code/intel/filter_sse2_intrinsics.c   \n",
      "20284                           repos/libpng-code/png.c   \n",
      "20290     repos/libpng-code/contrib/libtests/pngimage.c   \n",
      "20299     repos/libpng-code/contrib/libtests/pngimage.c   \n",
      "\n",
      "                                                 Comment  Num Comments Tokens  \\\n",
      "0      Use the png_store returned by the exception. T...                11.25   \n",
      "5                                                   SAFE                 0.75   \n",
      "16                                     also undocumented                 1.45   \n",
      "23                                               palette                 0.75   \n",
      "27      lin: make sRGB components linear, alpha := 65535                 4.95   \n",
      "...                                                  ...                  ...   \n",
      "20276      The default (built in) coeffcients, as above:                 2.15   \n",
      "20283                   PNG_INTEL_SSE_IMPLEMENTATION > 0                 1.45   \n",
      "20284                                             failed                 0.75   \n",
      "20290                        rowbytes should be the same                 0.75   \n",
      "20299                              A mask of errors seen                 2.15   \n",
      "\n",
      "       Num Program Domain  Num Problem Domain  Operational  Conditional  \\\n",
      "0                    2.45                0.05         2.03         1.25   \n",
      "5                    0.05                0.05         0.23         0.05   \n",
      "16                   0.05                0.05         0.23         0.05   \n",
      "23                   0.05                0.05         0.23         0.05   \n",
      "27                   1.25                0.05         0.23         0.05   \n",
      "...                   ...                 ...          ...          ...   \n",
      "20276                0.05                0.05         0.23         0.05   \n",
      "20283                0.05                0.05         0.23         0.05   \n",
      "20284                0.05                0.05         0.23         0.05   \n",
      "20290                0.05                0.05         0.23         0.05   \n",
      "20299                0.05                0.05         0.23         0.05   \n",
      "\n",
      "       Prog. Dom. Identifier Matches  Prob. Dom. Identifier Matches  \\\n",
      "0                               0.05                           0.05   \n",
      "5                               0.05                           0.05   \n",
      "16                              0.05                           0.05   \n",
      "23                              0.05                           0.05   \n",
      "27                              0.05                           0.05   \n",
      "...                              ...                            ...   \n",
      "20276                           0.05                           0.05   \n",
      "20283                           0.05                           0.05   \n",
      "20284                           0.05                           0.05   \n",
      "20290                           0.05                           0.05   \n",
      "20299                           0.05                           0.05   \n",
      "\n",
      "       Scope score  ...  Working Summary  Design And Development  Exception  \\\n",
      "0         0.410000  ...         6.498967                7.086092        1.5   \n",
      "5         0.410000  ...         0.000000                0.000000        0.0   \n",
      "16        2.410000  ...         1.000000                0.500000        0.0   \n",
      "23        0.410000  ...         0.000000                0.000000        0.0   \n",
      "27       21.175928  ...         0.000000                1.800000        0.5   \n",
      "...            ...  ...              ...                     ...        ...   \n",
      "20276     0.466391  ...         0.500000                0.500000        0.0   \n",
      "20283     0.410000  ...         0.000000                0.500000        0.0   \n",
      "20284     0.410000  ...         0.500000                0.300000        0.5   \n",
      "20290     0.410000  ...         0.500000                3.599986        1.0   \n",
      "20299     2.410000  ...         0.500000                0.800000        1.0   \n",
      "\n",
      "       Build Instruction  Commits and Bugs  AST Symbols  Comment Placement  \\\n",
      "0                    0.0               0.0          0.0                  2   \n",
      "5                    0.0               0.0          0.0                  2   \n",
      "16                   0.0               0.0          0.0                  2   \n",
      "23                   0.0               0.0          0.0                  2   \n",
      "27                   0.5               0.5          0.0                  2   \n",
      "...                  ...               ...          ...                ...   \n",
      "20276                0.0               0.0          0.0                  2   \n",
      "20283                0.0               0.0          0.0                  2   \n",
      "20284                0.0               0.0          0.0                  2   \n",
      "20290                0.0               0.0          0.0                  2   \n",
      "20299                0.0               0.0          0.0                  2   \n",
      "\n",
      "       POS Tags Score  Actual  Predicted  \n",
      "0            0.366712       2          2  \n",
      "5           -0.402514       0          0  \n",
      "16          -0.415261       0          0  \n",
      "23          -0.402514       1          1  \n",
      "27          -0.119928       2          2  \n",
      "...               ...     ...        ...  \n",
      "20276       -0.336474       1          1  \n",
      "20283       -0.252676       0          0  \n",
      "20284       -0.427848       1          1  \n",
      "20290       -0.376548       0          0  \n",
      "20299       -0.349977       1          1  \n",
      "\n",
      "[5929 rows x 24 columns]\n"
     ]
    }
   ],
   "source": [
    "print(df_actual_libpng)"
   ]
  },
  {
   "cell_type": "code",
   "execution_count": 10,
   "metadata": {},
   "outputs": [
    {
     "name": "stdout",
     "output_type": "stream",
     "text": [
      "2    2689\n",
      "1    2182\n",
      "0    1058\n",
      "Name: Predicted, dtype: int64\n"
     ]
    }
   ],
   "source": [
    "df_actual_libpng.to_csv('libpng_data_features.csv')\n",
    "\n",
    "print (df_actual_libpng['Predicted'].value_counts())"
   ]
  },
  {
   "cell_type": "code",
   "execution_count": 5,
   "metadata": {},
   "outputs": [
    {
     "name": "stdout",
     "output_type": "stream",
     "text": [
      " 2.000000    508\n",
      " 1.000000    204\n",
      " 0.000000    149\n",
      "-0.139829      6\n",
      "-0.116471      5\n",
      "-0.092982      5\n",
      "-0.033864      4\n",
      "-0.174570      4\n",
      "-0.186059      4\n",
      "-0.081198      4\n",
      "-0.128168      3\n",
      "-0.151452      3\n",
      " 0.025493      3\n",
      "-0.104741      3\n",
      "-0.208882      2\n",
      "-0.220210      2\n",
      "-0.069390      2\n",
      " 0.001748      2\n",
      " 0.013622      2\n",
      " 0.072869      1\n",
      "-0.163034      1\n",
      "-0.253829      1\n",
      " 0.037356      1\n",
      "-0.264905      1\n",
      "Name: Predicted, dtype: int64\n"
     ]
    }
   ],
   "source": [
    "df_lib = CORE_RESPONSES['Filename'].str.contains(\"Stockfish\") \n",
    "df_actual_Stockfish = CORE_RESPONSES[df_lib]\n",
    "df_actual_Stockfish.to_csv('Stockfish_data.csv')\n",
    "\n",
    "print (df_actual_Stockfish['Predicted'].value_counts())"
   ]
  },
  {
   "cell_type": "code",
   "execution_count": 6,
   "metadata": {},
   "outputs": [
    {
     "name": "stdout",
     "output_type": "stream",
     "text": [
      " 0.000000    1636\n",
      " 2.000000     888\n",
      " 1.000000     631\n",
      "-0.163034      13\n",
      "-0.128168      13\n",
      "-0.010126      10\n",
      "-0.116471       9\n",
      "-0.197497       9\n",
      "-0.092982       9\n",
      "-0.151452       8\n",
      "-0.139829       8\n",
      "-0.174570       8\n",
      "-0.104741       8\n",
      "-0.220210       7\n",
      "-0.021998       6\n",
      "-0.081198       6\n",
      "-0.057563       5\n",
      "-0.069390       5\n",
      "-0.231479       5\n",
      "-0.045720       5\n",
      "-0.186059       4\n",
      " 0.025493       4\n",
      " 0.001748       3\n",
      "-0.208882       2\n",
      "-0.253829       2\n",
      "-0.033864       2\n",
      " 0.013622       2\n",
      "-0.264905       1\n",
      " 0.061047       1\n",
      " 0.119918       1\n",
      " 0.037356       1\n",
      " 0.143256       1\n",
      "-0.275912       1\n",
      "-0.242686       1\n",
      " 0.084670       1\n",
      " 0.072869       1\n",
      "Name: Predicted, dtype: int64\n"
     ]
    }
   ],
   "source": [
    "df_lib = CORE_RESPONSES['Filename'].str.contains(\"SFML\") \n",
    "df_actual_SFML = CORE_RESPONSES[df_lib]\n",
    "df_actual_SFML.to_csv('SFML_data.csv')\n",
    "\n",
    "print (df_actual_SFML['Predicted'].value_counts())"
   ]
  },
  {
   "cell_type": "code",
   "execution_count": 8,
   "metadata": {},
   "outputs": [
    {
     "name": "stdout",
     "output_type": "stream",
     "text": [
      " 2.000000    474\n",
      " 1.000000    246\n",
      " 0.000000    219\n",
      "-0.128168     14\n",
      "-0.186059      8\n",
      "-0.163034      5\n",
      "-0.220210      4\n",
      "-0.151452      3\n",
      "-0.010126      2\n",
      "-0.057563      2\n",
      "-0.069390      2\n",
      "-0.081198      2\n",
      "-0.174570      2\n",
      "-0.139829      2\n",
      "-0.092982      1\n",
      " 0.001748      1\n",
      "-0.242686      1\n",
      "-0.208882      1\n",
      "-0.116471      1\n",
      "-0.197497      1\n",
      " 0.025493      1\n",
      "Name: Predicted, dtype: int64\n"
     ]
    }
   ],
   "source": [
    "df_lib = CORE_RESPONSES['Filename'].str.contains(\"gromacs\") \n",
    "df_actual_gromacs = CORE_RESPONSES[df_lib]\n",
    "df_actual_gromacs.to_csv('gromacs_data.csv')\n",
    "\n",
    "#print (df_actual_dealii['Predicted'].value_counts())\n",
    "print (df_actual_gromacs['Predicted'].value_counts())"
   ]
  },
  {
   "cell_type": "code",
   "execution_count": 23,
   "metadata": {},
   "outputs": [
    {
     "name": "stdout",
     "output_type": "stream",
     "text": [
      "2                    1573\n",
      "1                     585\n",
      "0                     401\n",
      " clockwise              4\n",
      " 10^0                   4\n",
      " serif)                 4\n",
      " counterclockwise       4\n",
      " not nn                 4\n",
      " sans serif)            2\n",
      " ytick1                 2\n",
      " Dymax)                 2\n",
      " l                      2\n",
      " script)                2\n",
      " s values               2\n",
      " Dymax) box             2\n",
      "Name: Predicted, dtype: int64\n"
     ]
    }
   ],
   "source": [
    "df_lib = CORE_RESPONSES['Filename'].str.contains(\"OpenCPN\") \n",
    "df_actual_PLplot = CORE_RESPONSES[df_lib]\n",
    "df_actual_PLplot.to_csv('OpenCPN_data.csv')\n",
    "\n",
    "print (df_actual_PLplot['Predicted'].value_counts())"
   ]
  },
  {
   "cell_type": "code",
   "execution_count": null,
   "metadata": {},
   "outputs": [],
   "source": []
  }
 ],
 "metadata": {
  "kernelspec": {
   "display_name": "Python [conda env:srijoni_python] *",
   "language": "python",
   "name": "conda-env-srijoni_python-py"
  },
  "language_info": {
   "codemirror_mode": {
    "name": "ipython",
    "version": 3
   },
   "file_extension": ".py",
   "mimetype": "text/x-python",
   "name": "python",
   "nbconvert_exporter": "python",
   "pygments_lexer": "ipython3",
   "version": "3.8.1"
  }
 },
 "nbformat": 4,
 "nbformat_minor": 4
}
