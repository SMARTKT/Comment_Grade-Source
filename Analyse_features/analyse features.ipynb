{
 "cells": [
  {
   "cell_type": "code",
   "execution_count": 1,
   "metadata": {},
   "outputs": [],
   "source": [
    "import pandas as pd\n",
    "import pickle\n",
    "import numpy as np"
   ]
  },
  {
   "cell_type": "code",
   "execution_count": null,
   "metadata": {},
   "outputs": [],
   "source": []
  },
  {
   "cell_type": "code",
   "execution_count": 2,
   "metadata": {},
   "outputs": [
    {
     "data": {
      "text/html": [
       "<div>\n",
       "<style scoped>\n",
       "    .dataframe tbody tr th:only-of-type {\n",
       "        vertical-align: middle;\n",
       "    }\n",
       "\n",
       "    .dataframe tbody tr th {\n",
       "        vertical-align: top;\n",
       "    }\n",
       "\n",
       "    .dataframe thead th {\n",
       "        text-align: right;\n",
       "    }\n",
       "</style>\n",
       "<table border=\"1\" class=\"dataframe\">\n",
       "  <thead>\n",
       "    <tr style=\"text-align: right;\">\n",
       "      <th></th>\n",
       "      <th>Filename</th>\n",
       "      <th>Comment</th>\n",
       "      <th>F1</th>\n",
       "      <th>F2</th>\n",
       "      <th>F3</th>\n",
       "      <th>F4</th>\n",
       "      <th>F5</th>\n",
       "      <th>F6</th>\n",
       "      <th>F7</th>\n",
       "      <th>F8</th>\n",
       "      <th>...</th>\n",
       "      <th>F13</th>\n",
       "      <th>F14</th>\n",
       "      <th>F15</th>\n",
       "      <th>F16</th>\n",
       "      <th>F17</th>\n",
       "      <th>F18</th>\n",
       "      <th>F19</th>\n",
       "      <th>F20</th>\n",
       "      <th>Actual</th>\n",
       "      <th>Predicted</th>\n",
       "    </tr>\n",
       "  </thead>\n",
       "  <tbody>\n",
       "    <tr>\n",
       "      <th>0</th>\n",
       "      <td>Stockfish-sf_11/src/timeman.cpp/timeman.cpp</td>\n",
       "      <td>Stockfish, a UCI chess playing engine derived ...</td>\n",
       "      <td>65.85</td>\n",
       "      <td>14.45</td>\n",
       "      <td>0.05</td>\n",
       "      <td>5.45</td>\n",
       "      <td>1.25</td>\n",
       "      <td>0.05</td>\n",
       "      <td>0.05</td>\n",
       "      <td>0.41</td>\n",
       "      <td>...</td>\n",
       "      <td>1.000000</td>\n",
       "      <td>1.000000</td>\n",
       "      <td>0.905148</td>\n",
       "      <td>0.0</td>\n",
       "      <td>0.998178</td>\n",
       "      <td>0.0</td>\n",
       "      <td>1</td>\n",
       "      <td>0.998930</td>\n",
       "      <td>NaN</td>\n",
       "      <td>2</td>\n",
       "    </tr>\n",
       "    <tr>\n",
       "      <th>1</th>\n",
       "      <td>Stockfish-sf_11/src/timeman.cpp/timeman.cpp</td>\n",
       "      <td>Our global time management object</td>\n",
       "      <td>2.85</td>\n",
       "      <td>2.45</td>\n",
       "      <td>0.05</td>\n",
       "      <td>1.67</td>\n",
       "      <td>0.05</td>\n",
       "      <td>0.05</td>\n",
       "      <td>0.05</td>\n",
       "      <td>0.41</td>\n",
       "      <td>...</td>\n",
       "      <td>0.462117</td>\n",
       "      <td>0.921669</td>\n",
       "      <td>0.761594</td>\n",
       "      <td>0.0</td>\n",
       "      <td>0.000000</td>\n",
       "      <td>0.0</td>\n",
       "      <td>2</td>\n",
       "      <td>-0.220210</td>\n",
       "      <td>NaN</td>\n",
       "      <td>2</td>\n",
       "    </tr>\n",
       "    <tr>\n",
       "      <th>2</th>\n",
       "      <td>Stockfish-sf_11/src/timeman.cpp/timeman.cpp</td>\n",
       "      <td>Plan time management at most this many moves a...</td>\n",
       "      <td>4.25</td>\n",
       "      <td>1.25</td>\n",
       "      <td>0.05</td>\n",
       "      <td>0.23</td>\n",
       "      <td>0.05</td>\n",
       "      <td>0.05</td>\n",
       "      <td>0.05</td>\n",
       "      <td>0.41</td>\n",
       "      <td>...</td>\n",
       "      <td>0.999329</td>\n",
       "      <td>0.999982</td>\n",
       "      <td>0.462117</td>\n",
       "      <td>0.0</td>\n",
       "      <td>0.000000</td>\n",
       "      <td>0.0</td>\n",
       "      <td>2</td>\n",
       "      <td>-0.163034</td>\n",
       "      <td>NaN</td>\n",
       "      <td>2</td>\n",
       "    </tr>\n",
       "    <tr>\n",
       "      <th>3</th>\n",
       "      <td>Stockfish-sf_11/src/timeman.cpp/timeman.cpp</td>\n",
       "      <td>When in trouble, we can step over reserved tim...</td>\n",
       "      <td>3.55</td>\n",
       "      <td>1.25</td>\n",
       "      <td>0.05</td>\n",
       "      <td>0.23</td>\n",
       "      <td>0.05</td>\n",
       "      <td>0.05</td>\n",
       "      <td>0.05</td>\n",
       "      <td>0.41</td>\n",
       "      <td>...</td>\n",
       "      <td>0.905148</td>\n",
       "      <td>0.664037</td>\n",
       "      <td>0.462117</td>\n",
       "      <td>0.0</td>\n",
       "      <td>0.000000</td>\n",
       "      <td>0.0</td>\n",
       "      <td>2</td>\n",
       "      <td>-0.186059</td>\n",
       "      <td>NaN</td>\n",
       "      <td>2</td>\n",
       "    </tr>\n",
       "    <tr>\n",
       "      <th>4</th>\n",
       "      <td>Stockfish-sf_11/src/timeman.cpp/timeman.cpp</td>\n",
       "      <td>However we must not steal time from remaining ...</td>\n",
       "      <td>4.95</td>\n",
       "      <td>1.25</td>\n",
       "      <td>0.05</td>\n",
       "      <td>1.67</td>\n",
       "      <td>0.05</td>\n",
       "      <td>0.05</td>\n",
       "      <td>0.05</td>\n",
       "      <td>0.41</td>\n",
       "      <td>...</td>\n",
       "      <td>0.995055</td>\n",
       "      <td>0.980096</td>\n",
       "      <td>0.462117</td>\n",
       "      <td>0.0</td>\n",
       "      <td>0.000000</td>\n",
       "      <td>0.0</td>\n",
       "      <td>2</td>\n",
       "      <td>-0.139829</td>\n",
       "      <td>NaN</td>\n",
       "      <td>2</td>\n",
       "    </tr>\n",
       "  </tbody>\n",
       "</table>\n",
       "<p>5 rows × 24 columns</p>\n",
       "</div>"
      ],
      "text/plain": [
       "                                      Filename  \\\n",
       "0  Stockfish-sf_11/src/timeman.cpp/timeman.cpp   \n",
       "1  Stockfish-sf_11/src/timeman.cpp/timeman.cpp   \n",
       "2  Stockfish-sf_11/src/timeman.cpp/timeman.cpp   \n",
       "3  Stockfish-sf_11/src/timeman.cpp/timeman.cpp   \n",
       "4  Stockfish-sf_11/src/timeman.cpp/timeman.cpp   \n",
       "\n",
       "                                             Comment     F1     F2    F3  \\\n",
       "0  Stockfish, a UCI chess playing engine derived ...  65.85  14.45  0.05   \n",
       "1                  Our global time management object   2.85   2.45  0.05   \n",
       "2  Plan time management at most this many moves a...   4.25   1.25  0.05   \n",
       "3  When in trouble, we can step over reserved tim...   3.55   1.25  0.05   \n",
       "4  However we must not steal time from remaining ...   4.95   1.25  0.05   \n",
       "\n",
       "     F4    F5    F6    F7    F8  ...       F13       F14       F15  F16  \\\n",
       "0  5.45  1.25  0.05  0.05  0.41  ...  1.000000  1.000000  0.905148  0.0   \n",
       "1  1.67  0.05  0.05  0.05  0.41  ...  0.462117  0.921669  0.761594  0.0   \n",
       "2  0.23  0.05  0.05  0.05  0.41  ...  0.999329  0.999982  0.462117  0.0   \n",
       "3  0.23  0.05  0.05  0.05  0.41  ...  0.905148  0.664037  0.462117  0.0   \n",
       "4  1.67  0.05  0.05  0.05  0.41  ...  0.995055  0.980096  0.462117  0.0   \n",
       "\n",
       "        F17  F18  F19       F20  Actual  Predicted  \n",
       "0  0.998178  0.0    1  0.998930     NaN          2  \n",
       "1  0.000000  0.0    2 -0.220210     NaN          2  \n",
       "2  0.000000  0.0    2 -0.163034     NaN          2  \n",
       "3  0.000000  0.0    2 -0.186059     NaN          2  \n",
       "4  0.000000  0.0    2 -0.139829     NaN          2  \n",
       "\n",
       "[5 rows x 24 columns]"
      ]
     },
     "execution_count": 2,
     "metadata": {},
     "output_type": "execute_result"
    }
   ],
   "source": [
    "data = pd.read_csv('gitdata_all_results.csv',delimiter='\\t')\n",
    "data.head()"
   ]
  },
  {
   "cell_type": "code",
   "execution_count": 3,
   "metadata": {},
   "outputs": [],
   "source": [
    "data_np = np.array(data)"
   ]
  },
  {
   "cell_type": "code",
   "execution_count": 4,
   "metadata": {},
   "outputs": [
    {
     "name": "stdout",
     "output_type": "stream",
     "text": [
      "0 Filename Stockfish-sf_11/src/timeman.cpp/timeman.cpp\n",
      "1 Comment Stockfish, a UCI chess playing engine derived from Glaurung 2.1\n",
      "  Copyright (C) 2004-2008 Tord Romstad (Glaurung author)\n",
      "  Copyright (C) 2008-2015 Marco Costalba, Joona Kiiski, Tord Romstad\n",
      "  Copyright (C) 2015-2020 Marco Costalba, Joona Kiiski, Gary Linscott, Tord Romstad\n",
      "\n",
      "  Stockfish is free software: you can redistribute it and/or modify\n",
      "  it under the terms of the GNU General Public License as published by\n",
      "  the Free Software Foundation, either version 3 of the License, or\n",
      "  (at your option) any later version.\n",
      "\n",
      "  Stockfish is distributed in the hope that it will be useful,\n",
      "  but WITHOUT ANY WARRANTY; without even the implied warranty of\n",
      "  MERCHANTABILITY or FITNESS FOR A PARTICULAR PURPOSE.  See the\n",
      "  GNU General Public License for more details.\n",
      "\n",
      "  You should have received a copy of the GNU General Public License\n",
      "  along with this program.  If not, see <http://www.gnu.org/licenses/>.\n",
      "2 F1 65.85\n",
      "3 F2 14.45\n",
      "4 F3 0.05\n",
      "5 F4 5.45\n",
      "6 F5 1.25\n",
      "7 F6 0.05\n",
      "8 F7 0.05\n",
      "9 F8 0.41\n",
      "10 F9 0.05\n",
      "11 F10 8.05\n",
      "12 F11 20.05\n",
      "13 F12 1.0\n",
      "14 F13 1.0\n",
      "15 F14 1.0\n",
      "16 F15 0.90514827\n",
      "17 F16 0.0\n",
      "18 F17 0.9981779000000001\n",
      "19 F18 0.0\n",
      "20 F19 1\n",
      "21 F20 0.9989295\n",
      "22 Actual nan\n",
      "23 Predicted 2\n"
     ]
    }
   ],
   "source": [
    "for i in range(len(data_np[0])):\n",
    "    print(i, data.columns[i], data_np[0][i])"
   ]
  },
  {
   "cell_type": "code",
   "execution_count": 5,
   "metadata": {},
   "outputs": [],
   "source": [
    "#F18, F19 - not normalised, F12 - F17 normalized"
   ]
  },
  {
   "cell_type": "code",
   "execution_count": 6,
   "metadata": {},
   "outputs": [
    {
     "data": {
      "text/plain": [
       "array(['Stockfish-sf_11/src/timeman.cpp/timeman.cpp',\n",
       "       'Stockfish, a UCI chess playing engine derived from Glaurung 2.1\\n  Copyright (C) 2004-2008 Tord Romstad (Glaurung author)\\n  Copyright (C) 2008-2015 Marco Costalba, Joona Kiiski, Tord Romstad\\n  Copyright (C) 2015-2020 Marco Costalba, Joona Kiiski, Gary Linscott, Tord Romstad\\n\\n  Stockfish is free software: you can redistribute it and/or modify\\n  it under the terms of the GNU General Public License as published by\\n  the Free Software Foundation, either version 3 of the License, or\\n  (at your option) any later version.\\n\\n  Stockfish is distributed in the hope that it will be useful,\\n  but WITHOUT ANY WARRANTY; without even the implied warranty of\\n  MERCHANTABILITY or FITNESS FOR A PARTICULAR PURPOSE.  See the\\n  GNU General Public License for more details.\\n\\n  You should have received a copy of the GNU General Public License\\n  along with this program.  If not, see <http://www.gnu.org/licenses/>.',\n",
       "       65.85, 14.45, 0.05, 5.45, 1.25, 0.05, 0.05, 0.41, 0.05, 8.05,\n",
       "       20.05, 20, 20, 20, 1.5000000905065525, 0.0, 3.500000656105068, 0.0,\n",
       "       1, 3.7661206185985447, nan, 2], dtype=object)"
      ]
     },
     "execution_count": 6,
     "metadata": {},
     "output_type": "execute_result"
    }
   ],
   "source": [
    "for i, el in enumerate(data_np):\n",
    "    for j in list(range(13,19))+[21]:\n",
    "        if data_np[i][j] == 1:\n",
    "            data_np[i][j] = 20\n",
    "        else:\n",
    "            data_np[i][j] = np.arctanh(data_np[i][j])\n",
    "data_np[0]"
   ]
  },
  {
   "cell_type": "code",
   "execution_count": 7,
   "metadata": {},
   "outputs": [],
   "source": [
    "for i in range(13,19):\n",
    "    data['F'+str(i-1)] = data_np[:,i]"
   ]
  },
  {
   "cell_type": "code",
   "execution_count": 8,
   "metadata": {},
   "outputs": [],
   "source": [
    "data.columns = [\"Filename\", \"Comment\", \"Num Comments Tokens\", \"Num Program Domain\", \"Num Problem Domain\", \"Operational\",\n",
    "          \"Conditional\", \"Prog. Dom. Identifier Matches\", \"Prob. Dom. Identifier Matches\", \"Scope score\",\n",
    "          \"Build details\", \"Author Details\", \"Junk/Copy\",\"Description of Dataset\", \"Working Summary\", \n",
    "         \"Design And Development\", \"Exception\", \"Build Instruction\", \"Commits and Bugs\", \"AST Symbols\", \"Comment Placement\",\n",
    "        \"POS Tags Score\" ,\"Actual\", \"Predicted\"]\n",
    "data.to_csv('all_results_unnormalized.csv',sep='\\t',index=None)"
   ]
  },
  {
   "cell_type": "code",
   "execution_count": null,
   "metadata": {},
   "outputs": [],
   "source": [
    "# data_to_analyse = pd.read_csv('DATA/all_results_unnormalized_manual.csv',delimiter='\\t')\n",
    "# data_to_analyse.head()"
   ]
  },
  {
   "cell_type": "code",
   "execution_count": null,
   "metadata": {},
   "outputs": [],
   "source": [
    "# data_to_analyse = data.drop(columns=['F'+str(i) for i in range(1,12)]+['Filename','Comment','Actual'])\n",
    "# data_to_analyse.columns"
   ]
  },
  {
   "cell_type": "code",
   "execution_count": null,
   "metadata": {},
   "outputs": [],
   "source": [
    "corr = data_to_analyse.corr(method='pearson')\n",
    "corr"
   ]
  },
  {
   "cell_type": "code",
   "execution_count": null,
   "metadata": {},
   "outputs": [],
   "source": [
    "import seaborn as sns\n",
    "import matplotlib.pyplot as plt\n",
    "fig, ax = plt.subplots(figsize=(20,10))\n",
    "sns.heatmap(corr, annot=True, fmt='.4f', \n",
    "            cmap=plt.get_cmap('coolwarm'), cbar=False, ax=ax)\n",
    "ax.set_yticklabels(ax.get_yticklabels(), rotation=\"horizontal\")\n",
    "plt.savefig('ANALYSIS/COMPANY_FEATS_CORR.png')"
   ]
  },
  {
   "cell_type": "code",
   "execution_count": null,
   "metadata": {},
   "outputs": [],
   "source": []
  },
  {
   "cell_type": "code",
   "execution_count": null,
   "metadata": {},
   "outputs": [],
   "source": []
  },
  {
   "cell_type": "code",
   "execution_count": null,
   "metadata": {},
   "outputs": [],
   "source": [
    "len(data.columns), len(tempc)"
   ]
  },
  {
   "cell_type": "code",
   "execution_count": null,
   "metadata": {},
   "outputs": [],
   "source": [
    "data.columns"
   ]
  },
  {
   "cell_type": "code",
   "execution_count": null,
   "metadata": {},
   "outputs": [],
   "source": []
  }
 ],
 "metadata": {
  "kernelspec": {
   "display_name": "Python 3",
   "language": "python",
   "name": "python3"
  },
  "language_info": {
   "codemirror_mode": {
    "name": "ipython",
    "version": 3
   },
   "file_extension": ".py",
   "mimetype": "text/x-python",
   "name": "python",
   "nbconvert_exporter": "python",
   "pygments_lexer": "ipython3",
   "version": "3.8.1"
  }
 },
 "nbformat": 4,
 "nbformat_minor": 4
}
