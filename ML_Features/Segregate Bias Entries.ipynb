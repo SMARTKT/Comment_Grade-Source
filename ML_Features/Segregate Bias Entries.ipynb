{
 "cells": [
  {
   "cell_type": "code",
   "execution_count": 5,
   "metadata": {},
   "outputs": [],
   "source": [
    "import pandas as pd\n",
    "import numpy as np\n",
    "import os\n",
    "from os.path import join as PJOIN\n",
    "from collections import Counter\n",
    "import xlsxwriter as xl"
   ]
  },
  {
   "cell_type": "code",
   "execution_count": 6,
   "metadata": {},
   "outputs": [],
   "source": [
    "BASE_DIR = \"ANALYSIS/BIAS/\"\n",
    "all_files = os.listdir(BASE_DIR)"
   ]
  },
  {
   "cell_type": "code",
   "execution_count": null,
   "metadata": {},
   "outputs": [],
   "source": []
  },
  {
   "cell_type": "code",
   "execution_count": 7,
   "metadata": {},
   "outputs": [
    {
     "name": "stdout",
     "output_type": "stream",
     "text": [
      "curl_curl_salonifirst1500.xlsx__curl_curl_saket_extra_1000.xlsx\n",
      "Counter({('U', 'U', 'P', 'U'): 75, ('U', 'U', 'P', 'P'): 66, ('U', 'U', 'U', 'U'): 47, ('P', 'U', 'P', 'U'): 33, ('P', 'U', 'P', 'P'): 19, ('N', 'P', 'P', 'U'): 19, ('P', 'P', 'P', 'P'): 15, ('P', 'P', 'P', 'N'): 12, ('N', 'P', 'N', 'N'): 11, ('U', 'U', 'N', 'N'): 9, ('U', 'U', 'N', 'P'): 9, ('U', 'U', 'U', 'P'): 9, ('U', 'P', 'P', 'P'): 7, ('U', 'U', 'N', 'U'): 7, ('N', 'N', 'P', 'N'): 7, ('N', 'U', 'P', 'U'): 7, ('U', 'N', 'U', 'U'): 7, ('U', 'P', 'U', 'U'): 6, ('N', 'U', 'N', 'N'): 6, ('N', 'P', 'U', 'U'): 6, ('P', 'U', 'N', 'U'): 5, ('N', 'N', 'N', 'N'): 5, ('P', 'U', 'U', 'U'): 5, ('N', 'P', 'P', 'P'): 5, ('N', 'U', 'P', 'P'): 5, ('N', 'P', 'N', 'U'): 4, ('P', 'U', 'P', 'N'): 4, ('N', 'U', 'U', 'U'): 4, ('U', 'N', 'U', 'P'): 4, ('N', 'P', 'P', 'N'): 4, ('N', 'U', 'N', 'P'): 3, ('P', 'P', 'P', 'U'): 3, ('P', 'N', 'P', 'N'): 3, ('P', 'U', 'N', 'P'): 3, ('U', 'P', 'P', 'U'): 3, ('U', 'U', 'P', 'N'): 3, ('P', 'N', 'P', 'P'): 2, ('P', 'P', 'U', 'U'): 2, ('P', 'U', 'N', 'N'): 1, ('U', 'N', 'P', 'P'): 1, ('U', 'P', 'P', 'N'): 1, ('U', 'P', 'N', 'N'): 1, ('P', 'N', 'N', 'N'): 1, ('P', 'N', 'U', 'N'): 1, ('N', 'N', 'P', 'P'): 1, ('P', 'U', 'U', 'N'): 1, ('N', 'U', 'N', 'U'): 1, ('N', 'N', 'U', 'U'): 1, ('N', 'N', 'N', 'U'): 1, ('P', 'N', 'U', 'P'): 1, ('U', 'P', 'U', 'P'): 1, ('U', 'N', 'U', 'N'): 1, ('P', 'U', 'U', 'P'): 1})\n",
      "curl_curl_Deepesh_1100.xlsx__curl_Yash_last_500_curl.xlsx\n",
      "Counter({('U', 'U', 'P', 'U'): 115, ('U', 'U', 'N', 'U'): 56, ('U', 'U', 'P', 'P'): 54, ('U', 'N', 'P', 'U'): 46, ('U', 'U', 'N', 'P'): 38, ('U', 'U', 'U', 'U'): 27, ('U', 'U', 'N', 'N'): 16, ('U', 'U', 'P', 'N'): 13, ('U', 'P', 'N', 'P'): 10, ('P', 'U', 'N', 'U'): 8, ('P', 'P', 'N', 'N'): 7, ('U', 'P', 'P', 'U'): 5, ('U', 'P', 'P', 'P'): 5, ('P', 'U', 'P', 'P'): 4, ('P', 'U', 'N', 'N'): 3, ('P', 'U', 'N', 'P'): 3, ('N', 'P', 'N', 'N'): 3, ('P', 'P', 'P', 'P'): 2, ('N', 'U', 'N', 'P'): 2, ('U', 'N', 'P', 'N'): 2, ('U', 'P', 'P', 'N'): 2, ('P', 'N', 'N', 'N'): 2, ('N', 'N', 'N', 'N'): 2, ('P', 'U', 'P', 'U'): 2, ('U', 'N', 'N', 'N'): 2, ('U', 'P', 'N', 'N'): 2, ('U', 'P', 'U', 'U'): 1, ('P', 'P', 'P', 'N'): 1, ('N', 'U', 'N', 'N'): 1, ('P', 'P', 'U', 'U'): 1, ('P', 'P', 'P', 'U'): 1, ('P', 'N', 'P', 'P'): 1, ('P', 'U', 'P', 'N'): 1, ('N', 'U', 'N', 'U'): 1, ('U', 'U', 'U', 'P'): 1, ('U', 'P', 'U', 'N'): 1})\n",
      "server_MariaDB_Yash_1900.xlsx__server_Subhanan_Last_500_mariaDB.xlsx\n",
      "Counter({('U', 'U', 'U', 'U'): 69, ('U', 'U', 'U', 'P'): 63, ('U', 'U', 'P', 'P'): 48, ('U', 'U', 'P', 'U'): 40, ('U', 'U', 'N', 'P'): 29, ('N', 'N', 'N', 'N'): 24, ('U', 'U', 'N', 'U'): 12, ('N', 'N', 'U', 'P'): 11, ('P', 'U', 'P', 'U'): 9, ('P', 'P', 'P', 'U'): 8, ('U', 'P', 'P', 'U'): 8, ('U', 'U', 'P', 'N'): 7, ('U', 'P', 'U', 'U'): 7, ('U', 'P', 'N', 'U'): 6, ('P', 'U', 'N', 'P'): 6, ('N', 'U', 'U', 'U'): 6, ('U', 'P', 'U', 'N'): 5, ('U', 'U', 'U', 'N'): 4, ('U', 'P', 'P', 'N'): 4, ('U', 'N', 'P', 'P'): 4, ('P', 'U', 'P', 'P'): 4, ('P', 'P', 'N', 'N'): 4, ('U', 'P', 'P', 'P'): 4, ('P', 'U', 'N', 'U'): 4, ('P', 'P', 'P', 'P'): 4, ('P', 'P', 'N', 'U'): 4, ('N', 'N', 'P', 'N'): 3, ('N', 'P', 'N', 'N'): 3, ('P', 'U', 'U', 'P'): 3, ('N', 'U', 'N', 'P'): 3, ('P', 'P', 'P', 'N'): 3, ('U', 'P', 'N', 'P'): 3, ('U', 'N', 'N', 'N'): 2, ('U', 'N', 'N', 'P'): 2, ('U', 'N', 'U', 'N'): 2, ('U', 'N', 'P', 'N'): 2, ('P', 'N', 'P', 'N'): 2, ('P', 'P', 'N', 'P'): 2, ('P', 'U', 'U', 'U'): 2, ('P', 'U', 'N', 'N'): 2, ('N', 'U', 'P', 'P'): 1, ('P', 'N', 'N', 'N'): 1, ('P', 'N', 'P', 'U'): 1, ('N', 'P', 'U', 'U'): 1, ('N', 'N', 'N', 'P'): 1, ('P', 'N', 'U', 'N'): 1, ('U', 'U', 'N', 'N'): 1, ('U', 'P', 'N', 'N'): 1, ('U', 'P', 'U', 'P'): 1, ('N', 'N', 'U', 'N'): 1, ('U', 'N', 'P', 'U'): 1, ('N', 'N', 'N', 'U'): 1, ('P', 'N', 'P', 'P'): 1, ('P', 'N', 'N', 'P'): 1, ('N', 'N', 'U', 'U'): 1, ('N', 'U', 'N', 'N'): 1, ('N', 'N', 'P', 'P'): 1, ('P', 'P', 'U', 'U'): 1})\n",
      "plplot_PLPlot-Annotation-Shubhanan.xlsx__plplot_Saloni_last-1000.xlsx\n",
      "Counter({('U', 'U', 'U', 'P'): 186, ('P', 'U', 'P', 'P'): 137, ('P', 'U', 'P', 'U'): 131, ('U', 'U', 'P', 'P'): 48, ('P', 'P', 'P', 'P'): 45, ('P', 'N', 'P', 'N'): 44, ('U', 'U', 'U', 'U'): 35, ('P', 'P', 'P', 'U'): 29, ('U', 'U', 'P', 'U'): 20, ('P', 'U', 'N', 'P'): 18, ('P', 'P', 'N', 'P'): 17, ('N', 'U', 'U', 'P'): 15, ('P', 'U', 'N', 'U'): 13, ('P', 'N', 'P', 'P'): 10, ('P', 'N', 'N', 'P'): 9, ('P', 'U', 'P', 'N'): 7, ('P', 'P', 'N', 'N'): 7, ('U', 'P', 'U', 'P'): 6, ('P', 'P', 'N', 'U'): 6, ('P', 'P', 'P', 'N'): 6, ('P', 'P', 'U', 'U'): 6, ('N', 'U', 'N', 'U'): 5, ('N', 'N', 'N', 'P'): 5, ('P', 'U', 'U', 'U'): 4, ('U', 'P', 'P', 'N'): 3, ('N', 'N', 'P', 'N'): 3, ('P', 'U', 'N', 'N'): 3, ('U', 'U', 'P', 'N'): 3, ('N', 'U', 'N', 'P'): 3, ('U', 'N', 'P', 'P'): 2, ('P', 'U', 'U', 'P'): 2, ('N', 'N', 'N', 'U'): 2, ('N', 'N', 'N', 'N'): 2, ('N', 'P', 'N', 'U'): 2, ('P', 'N', 'U', 'N'): 1, ('P', 'P', 'U', 'P'): 1, ('U', 'U', 'N', 'N'): 1, ('U', 'N', 'P', 'N'): 1, ('N', 'U', 'P', 'U'): 1, ('U', 'P', 'U', 'N'): 1, ('P', 'N', 'N', 'N'): 1, ('P', 'P', 'U', 'N'): 1, ('P', 'N', 'N', 'U'): 1, ('U', 'P', 'N', 'U'): 1, ('P', 'N', 'P', 'U'): 1, ('U', 'U', 'N', 'U'): 1, ('U', 'P', 'P', 'U'): 1})\n"
     ]
    }
   ],
   "source": [
    "for file in all_files:\n",
    "    filename = PJOIN(BASE_DIR,file)\n",
    "    if os.path.isdir(filename):\n",
    "        continue\n",
    "    print(file)\n",
    "    data = pd.read_excel(filename,header=None)\n",
    "    data.head()\n",
    "    data = np.array(data)\n",
    "    ctr = Counter()\n",
    "    mp = {}\n",
    "    for i in range(0,len(data),2):\n",
    "        d1 = data[i]\n",
    "        d2 = data[i+1]\n",
    "        key = (d1[-4][0].upper(),d2[-4][0].upper(),d1[-3][0].upper(),d2[-3][0].upper())\n",
    "        ctr[key] += 1\n",
    "        if key not in mp:\n",
    "            mp[key] = []\n",
    "        mp[key].append(d1)\n",
    "        mp[key].append(d2)\n",
    "        \n",
    "    print(ctr)\n",
    "    wb = xl.Workbook(PJOIN(BASE_DIR,\"SEGREGATED\",file))\n",
    "    for k,v in mp.items():\n",
    "        sheet_name = ','.join(k)\n",
    "        ws = wb.add_worksheet(sheet_name)\n",
    "        \n",
    "        for i,el in enumerate(v):\n",
    "            for j,e in enumerate(el):\n",
    "                if e != e:\n",
    "                    continue\n",
    "                ws.write(i,j,e)   \n",
    "    wb.close()"
   ]
  },
  {
   "cell_type": "code",
   "execution_count": 4,
   "metadata": {},
   "outputs": [],
   "source": [
    "# wb = xl.Workbook(outputfilename)\n",
    "# columns = annotations_file.columns\n",
    "# for k,v in examples.items():\n",
    "#     sheet_name = k[0] + \",\" + k[1] + \",\" + k[2]\n",
    "#     ws = wb.add_worksheet(sheet_name)\n",
    "#     for i in range(len(columns)):\n",
    "#         if columns[i] != columns[i]:\n",
    "#             continue\n",
    "#         ws.write(0,i,columns[i])\n",
    "#     for i,el in enumerate(v):\n",
    "#         for j,e in enumerate(el):\n",
    "#             if e != e:\n",
    "#                 continue\n",
    "#             ws.write(i+1,j,e)\n",
    "# wb.close()"
   ]
  },
  {
   "cell_type": "code",
   "execution_count": null,
   "metadata": {},
   "outputs": [],
   "source": []
  }
 ],
 "metadata": {
  "kernelspec": {
   "display_name": "Python 3",
   "language": "python",
   "name": "python3"
  },
  "language_info": {
   "codemirror_mode": {
    "name": "ipython",
    "version": 3
   },
   "file_extension": ".py",
   "mimetype": "text/x-python",
   "name": "python",
   "nbconvert_exporter": "python",
   "pygments_lexer": "ipython3",
   "version": "3.8.1"
  }
 },
 "nbformat": 4,
 "nbformat_minor": 4
}
