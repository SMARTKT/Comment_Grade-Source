{
 "cells": [
  {
   "cell_type": "code",
   "execution_count": 2,
   "metadata": {},
   "outputs": [],
   "source": [
    "import pandas as pd\n",
    "import numpy as np\n",
    "import csv\n",
    "from os.path import join as PJOIN\n",
    "import copy"
   ]
  },
  {
   "cell_type": "code",
   "execution_count": 3,
   "metadata": {},
   "outputs": [],
   "source": [
    "DATA_DIR = \"DATA/GENERATED/TRAIN/\"\n",
    "commentTypeClassification = False\n",
    "# DATA_FILES = [\"train_libpng_int.csv\",\"train_dealii_int.csv\",\"train_server_int.csv\",\n",
    "#              \"train_curl_Deepesh_commentType.csv\", \"train_curl_Saket_commentType.csv\", \n",
    "#               \"train_curl_Saloni_commentType.csv\", \"train_curl_Yash_commentType.csv\",\n",
    "#              \"train_server_Saket_commentType.csv\", \"train_server_Shubhanan_commentType.csv\",\n",
    "#              \"train_server_Yash_commentType.csv\"]\n",
    "\n",
    "# DATA_FILES = [\"train_dealii_Srinidhi_int.csv\", \"train_libpng_Someone_int.csv\", \"train_server_Someone_int.csv\",\n",
    "#              \"train_curl_Deepesh_commentType.csv\", \"train_curl_Saket_commentType.csv\", \n",
    "#               \"train_curl_Saloni_commentType.csv\", \"train_curl_Yash_commentType.csv\",\n",
    "#              \"train_server_Saket_commentType.csv\", \"train_server_Shubhanan_commentType.csv\",\n",
    "#              \"train_server_Yash_commentType.csv\"]\n",
    "\n",
    "# DATA_FILES = ['train_curl_Deepesh_cal.csv', 'train_curl_Saket_cal.csv', 'train_curl_Saloni_cal.csv',\n",
    "#              'train_curl_Yash_cal.csv', 'train_PLplot_Shubhanan_cal.csv', 'train_PLplot_Saloni_cal.csv',\n",
    "#              'train_server_Saket_cal.csv','train_server_Yash_cal.csv','train_server_Shubhanan_cal.csv',\n",
    "#              'train_dealii_Srinidhi_cal.csv','train_server_3folders_cal.csv','train_libpng-code_allmarked_cal.csv']\n",
    "DATA_FILES = ['train_googletest_srijoni_cal.csv']\n",
    "OUTPUT_FILE = \"TEST_SEPARATE\"\n",
    "\n",
    "HEADERS = [\"Num Comments Tokens\", \"Num Program Domain\", \"Num Problem Domain\", \"Descriptional\", \"Operational\",\n",
    "          \"Conditional\", \"Prog. Dom. Identifier Matches\", \"Prob. Dom. Identifier Matches\", \"Scope score\",\n",
    "          \"Build details\", \"Author Details\", \"Junk/Copy\",'E1','E2','E3','E4','E5','E6','E7','E8','Class']"
   ]
  },
  {
   "cell_type": "code",
   "execution_count": 4,
   "metadata": {},
   "outputs": [],
   "source": [
    "SHAPES = set()\n",
    "def get_all_training_data():\n",
    "    all_files = []\n",
    "    if DATA_FILES[0] == 'all':\n",
    "        for file in os.listdir(DATA_DIR):\n",
    "            if file[:2] == 'X_':\n",
    "                all_files.append(file[2:])\n",
    "    else:\n",
    "        all_files = DATA_FILES\n",
    "    \n",
    "    all_x = []\n",
    "    all_y = []\n",
    "    all_z = []\n",
    "    \n",
    "    for file in all_files:\n",
    "        train_x = pd.read_csv(PJOIN(DATA_DIR,\"X_\"+file),header=None)\n",
    "        all_x.append(np.array(train_x))\n",
    "        train_y = pd.read_csv(PJOIN(DATA_DIR,\"Y_\"+file),header=None)\n",
    "        all_y.append(train_y)\n",
    "        train_z = pd.read_csv(PJOIN(DATA_DIR,\"Z_\"+file),header=None,delimiter='\\t')\n",
    "        print(train_z[[1,0]])\n",
    "        SHAPES.add(train_z.shape)\n",
    "        all_z.append(train_z[[1,0]])\n",
    "    \n",
    "    all_x = np.concatenate(all_x)\n",
    "    all_y = np.concatenate(all_y)\n",
    "    all_z = np.concatenate(all_z)\n",
    "    print(all_x.shape,all_y.shape)\n",
    "    all_y = all_y.reshape(all_y.shape[0])    \n",
    "    return all_x, all_y, all_z"
   ]
  },
  {
   "cell_type": "code",
   "execution_count": 5,
   "metadata": {},
   "outputs": [],
   "source": [
    "# def normalize_data(x):\n",
    "#     return (x - np.mean(x,axis=0))/np.std(x,axis=0)\n",
    "\n",
    "def process_y_commentType(y):\n",
    "    res = []\n",
    "    for el in y:\n",
    "        temp = el.strip('][').split(',')\n",
    "        temp = [int(a) for a in temp]\n",
    "        res.append(temp)\n",
    "    return np.array(res)"
   ]
  },
  {
   "cell_type": "code",
   "execution_count": 6,
   "metadata": {},
   "outputs": [
    {
     "name": "stdout",
     "output_type": "stream",
     "text": [
      "                                                   1  \\\n",
      "0  Copyright 2008, Google Inc.\\nAll rights reserv...   \n",
      "1  \\nGoogle C++ Testing and Mocking Framework (Go...   \n",
      "2  This line ensures that gtest.h can be compiled...   \n",
      "3  The following lines pull in the real gtest *.c...   \n",
      "\n",
      "                                                   0  \n",
      "0  googletest/googletest/src/gtest-all.cc/gtest-a...  \n",
      "1  googletest/googletest/src/gtest-all.cc/gtest-a...  \n",
      "2  googletest/googletest/src/gtest-all.cc/gtest-a...  \n",
      "3  googletest/googletest/src/gtest-all.cc/gtest-a...  \n",
      "(4, 20) (4, 1)\n"
     ]
    }
   ],
   "source": [
    "train_x, train_y, train_z = get_all_training_data()"
   ]
  },
  {
   "cell_type": "code",
   "execution_count": 6,
   "metadata": {},
   "outputs": [],
   "source": [
    "\n",
    "# perm = np.random.permutation(len(train_y))\n",
    "# train_x = train_x[perm]\n",
    "# train_y = train_y[perm]\n",
    "# #train_z = train_z[perm]\n",
    "# # Create a file for combined z\n",
    "# with open(DATA_DIR+\"Z_\"+OUTPUT_FILE+\".csv\", 'w') as f:\n",
    "#     writer = csv.writer(f, delimiter = '\\t')\n",
    "#     header = ['F'+str(1+j) for j in range(len(train_z[0]))]\n",
    "#     writer.writerow(header)\n",
    "#     for el in train_z:\n",
    "#         writer.writerow(el)\n",
    "# if commentTypeClassification:\n",
    "#     #train_y = process_y_commentType(train_y)\n",
    "#     print(train_y.shape)\n",
    "#     OUTPUT_TYPES = ['ProgramDomain','ProblemDomain','ProjectManagement']\n",
    "#     for i,ot in enumerate(OUTPUT_TYPES):\n",
    "#         with open(DATA_DIR+OUTPUT_FILE+\"_\"+ot+\".csv\",'w') as f:\n",
    "#             writer = csv.writer(f)\n",
    "#             header = copy.deepcopy(HEADERS)\n",
    "#             header.append('Class')\n",
    "#             header.append('Index')\n",
    "#             writer.writerow(header)\n",
    "#             for j,l in enumerate(train_x):\n",
    "#                 writer.writerow(np.append(np.append(l,train_y[j,i]),j))\n",
    "    \n",
    "#     with open(DATA_DIR+OUTPUT_FILE+\"_all.csv\",'w') as f:\n",
    "#         writer = csv.writer(f)\n",
    "#         header = copy.deepcopy(HEADERS) + OUTPUT_TYPES\n",
    "#         header.append('Index')\n",
    "#         writer.writerow(header)\n",
    "#         for j,l in enumerate(train_x):\n",
    "#             writer.writerow(np.append(np.concatenate((l,train_y[j])),j))\n",
    "                "
   ]
  },
  {
   "cell_type": "code",
   "execution_count": 7,
   "metadata": {},
   "outputs": [],
   "source": [
    "# SHAPES"
   ]
  },
  {
   "cell_type": "code",
   "execution_count": 8,
   "metadata": {},
   "outputs": [],
   "source": [
    "# l"
   ]
  },
  {
   "cell_type": "code",
   "execution_count": 9,
   "metadata": {},
   "outputs": [],
   "source": [
    "# train_y[j]"
   ]
  },
  {
   "cell_type": "code",
   "execution_count": 10,
   "metadata": {},
   "outputs": [],
   "source": [
    "# np.append(np.concatenate((l,train_y[j])),j)"
   ]
  },
  {
   "cell_type": "code",
   "execution_count": 11,
   "metadata": {},
   "outputs": [],
   "source": [
    "# len(HEADERS)"
   ]
  },
  {
   "cell_type": "code",
   "execution_count": 12,
   "metadata": {},
   "outputs": [],
   "source": [
    "# perm = np.random.permutation(len(train_y))\n",
    "# train_x = train_x[perm]\n",
    "# train_y = train_y[perm]\n",
    "# train_z = train_z[perm]"
   ]
  },
  {
   "cell_type": "code",
   "execution_count": 7,
   "metadata": {},
   "outputs": [],
   "source": [
    "with open(DATA_DIR+\"Z_\"+OUTPUT_FILE+\".csv\", 'w') as f:\n",
    "    writer = csv.writer(f, delimiter = '\\t')\n",
    "    header = ['F2','FILES']\n",
    "    writer.writerow(header)\n",
    "    for el in train_z:\n",
    "        writer.writerow(el)"
   ]
  },
  {
   "cell_type": "code",
   "execution_count": 8,
   "metadata": {},
   "outputs": [],
   "source": [
    "with open(DATA_DIR+OUTPUT_FILE+\".csv\", 'w') as f:\n",
    "    writer = csv.writer(f, delimiter = '\\t')\n",
    "    writer.writerow(HEADERS)\n",
    "    for j,l in enumerate(train_x):\n",
    "        writer.writerow(np.append(l,train_y[j]))"
   ]
  },
  {
   "cell_type": "code",
   "execution_count": 9,
   "metadata": {},
   "outputs": [
    {
     "data": {
      "text/plain": [
       "3"
      ]
     },
     "execution_count": 9,
     "metadata": {},
     "output_type": "execute_result"
    }
   ],
   "source": [
    "train_y[j]"
   ]
  },
  {
   "cell_type": "code",
   "execution_count": null,
   "metadata": {},
   "outputs": [],
   "source": []
  },
  {
   "cell_type": "code",
   "execution_count": 16,
   "metadata": {},
   "outputs": [
    {
     "data": {
      "text/plain": [
       "5229"
      ]
     },
     "execution_count": 16,
     "metadata": {},
     "output_type": "execute_result"
    }
   ],
   "source": [
    "len(train_z)"
   ]
  },
  {
   "cell_type": "code",
   "execution_count": 17,
   "metadata": {},
   "outputs": [
    {
     "data": {
      "text/plain": [
       "array([['Stockfish, a UCI chess playing engine derived from Glaurung 2.1\\n  Copyright (C) 2004-2008 Tord Romstad (Glaurung author)\\n  Copyright (C) 2008-2015 Marco Costalba, Joona Kiiski, Tord Romstad\\n  Copyright (C) 2015-2020 Marco Costalba, Joona Kiiski, Gary Linscott, Tord Romstad\\n\\n  Stockfish is free software: you can redistribute it and/or modify\\n  it under the terms of the GNU General Public License as published by\\n  the Free Software Foundation, either version 3 of the License, or\\n  (at your option) any later version.\\n\\n  Stockfish is distributed in the hope that it will be useful,\\n  but WITHOUT ANY WARRANTY; without even the implied warranty of\\n  MERCHANTABILITY or FITNESS FOR A PARTICULAR PURPOSE.  See the\\n  GNU General Public License for more details.\\n\\n  You should have received a copy of the GNU General Public License\\n  along with this program.  If not, see <http://www.gnu.org/licenses/>.',\n",
       "        'Stockfish-sf_11/src/timeman.cpp/timeman.cpp'],\n",
       "       ['Our global time management object',\n",
       "        'Stockfish-sf_11/src/timeman.cpp/timeman.cpp'],\n",
       "       ['Plan time management at most this many moves ahead',\n",
       "        'Stockfish-sf_11/src/timeman.cpp/timeman.cpp'],\n",
       "       ['When in trouble, we can step over reserved time with this ratio',\n",
       "        'Stockfish-sf_11/src/timeman.cpp/timeman.cpp'],\n",
       "       ['However we must not steal time from remaining moves over this ratio',\n",
       "        'Stockfish-sf_11/src/timeman.cpp/timeman.cpp'],\n",
       "       ['move_importance() is a skew-logistic function based on naive statistical\\nanalysis of \"how many games are still undecided after n half-moves\". Game\\nis considered \"undecided\" as long as neither side has >275cp advantage.\\nData was extracted from the CCRL game database with some simple filtering criteria.',\n",
       "        'Stockfish-sf_11/src/timeman.cpp/timeman.cpp'],\n",
       "       ['Ensure non-zero', 'Stockfish-sf_11/src/timeman.cpp/timeman.cpp'],\n",
       "       ['Intel C++ asks for an explicit cast',\n",
       "        'Stockfish-sf_11/src/timeman.cpp/timeman.cpp'],\n",
       "       ['namespace', 'Stockfish-sf_11/src/timeman.cpp/timeman.cpp'],\n",
       "       [\"/ init() is called at the beginning of the search and calculates the allowed\\n/ thinking time out of the time control and current game ply. We support four\\n/ different kinds of time controls, passed in 'limits':\\n/\\n/  inc == 0 && movestogo == 0 means: x basetime  [sudden death!]\\n/  inc == 0 && movestogo != 0 means: x moves in y minutes\\n/  inc >  0 && movestogo == 0 means: x basetime + z increment\\n/  inc >  0 && movestogo != 0 means: x moves in y minutes + z increment\",\n",
       "        'Stockfish-sf_11/src/timeman.cpp/timeman.cpp']], dtype=object)"
      ]
     },
     "execution_count": 17,
     "metadata": {},
     "output_type": "execute_result"
    }
   ],
   "source": [
    "train_z[:10]"
   ]
  },
  {
   "cell_type": "code",
   "execution_count": 18,
   "metadata": {},
   "outputs": [
    {
     "data": {
      "text/plain": [
       "(1396, 1188, 2645)"
      ]
     },
     "execution_count": 18,
     "metadata": {},
     "output_type": "execute_result"
    }
   ],
   "source": [
    "np.sum(train_y==1),np.sum(train_y==2),np.sum(train_y==3)"
   ]
  },
  {
   "cell_type": "code",
   "execution_count": 17,
   "metadata": {},
   "outputs": [
    {
     "data": {
      "text/plain": [
       "20306"
      ]
     },
     "execution_count": 17,
     "metadata": {},
     "output_type": "execute_result"
    }
   ],
   "source": [
    "len(train_y)"
   ]
  },
  {
   "cell_type": "code",
   "execution_count": 15,
   "metadata": {},
   "outputs": [
    {
     "ename": "NameError",
     "evalue": "name 'train_x' is not defined",
     "output_type": "error",
     "traceback": [
      "\u001b[0;31m---------------------------------------------------------------------------\u001b[0m",
      "\u001b[0;31mNameError\u001b[0m                                 Traceback (most recent call last)",
      "\u001b[0;32m<ipython-input-15-c3c9818d7ef0>\u001b[0m in \u001b[0;36m<module>\u001b[0;34m()\u001b[0m\n\u001b[0;32m----> 1\u001b[0;31m \u001b[0mtrain_x\u001b[0m\u001b[0;34m\u001b[0m\u001b[0;34m\u001b[0m\u001b[0m\n\u001b[0m",
      "\u001b[0;31mNameError\u001b[0m: name 'train_x' is not defined"
     ]
    }
   ],
   "source": [
    "train_x"
   ]
  },
  {
   "cell_type": "code",
   "execution_count": 16,
   "metadata": {},
   "outputs": [
    {
     "data": {
      "text/plain": [
       "{(481, 39),\n",
       " (495, 40),\n",
       " (728, 40),\n",
       " (966, 42),\n",
       " (1003, 43),\n",
       " (1024, 45),\n",
       " (1064, 41),\n",
       " (1221, 41),\n",
       " (1635, 40),\n",
       " (1845, 50),\n",
       " (3915, 50),\n",
       " (5929, 49)}"
      ]
     },
     "execution_count": 16,
     "metadata": {},
     "output_type": "execute_result"
    }
   ],
   "source": [
    "SHAPES"
   ]
  },
  {
   "cell_type": "code",
   "execution_count": 19,
   "metadata": {},
   "outputs": [
    {
     "data": {
      "text/plain": [
       "(5229, 2)"
      ]
     },
     "execution_count": 19,
     "metadata": {},
     "output_type": "execute_result"
    }
   ],
   "source": [
    "train_z.shape"
   ]
  },
  {
   "cell_type": "code",
   "execution_count": 30,
   "metadata": {},
   "outputs": [
    {
     "data": {
      "text/plain": [
       "array(['**************************************************************************\\n *                                  _   _ ____  _\\n *  Project                     ___| | | |  _ \\\\| |\\n *                             / __| | | | |_) | |\\n *                            | (__| |_| |  _ <| |___\\n *                             \\\\___|\\\\___/|_| \\\\_\\\\_____|\\n *\\n * Copyright (C) 1998 - 2017, Daniel Stenberg, <daniel@haxx.se>, et al.\\n *\\n * This software is licensed as described in the file COPYING, which\\n * you should have received as part of this distribution. The terms\\n * are also available at https://curl.haxx.se/docs/copyright.html.\\n *\\n * You may opt to use, copy, modify, merge, publish, distribute and/or sell\\n * copies of the Software, and permit persons to whom the Software is\\n * furnished to do so, under the terms of the COPYING file.\\n *\\n * This software is distributed on an \"AS IS\" basis, WITHOUT WARRANTY OF ANY\\n * KIND, either express or implied.\\n *\\n **************************************************************************',\n",
       "       'curl/tests/libtest/lib525.c/lib525.c'], dtype=object)"
      ]
     },
     "execution_count": 30,
     "metadata": {},
     "output_type": "execute_result"
    }
   ],
   "source": [
    "train_z[0]"
   ]
  },
  {
   "cell_type": "code",
   "execution_count": null,
   "metadata": {
    "collapsed": true
   },
   "outputs": [],
   "source": []
  }
 ],
 "metadata": {
  "kernelspec": {
   "display_name": "Python 3",
   "language": "python",
   "name": "python3"
  },
  "language_info": {
   "codemirror_mode": {
    "name": "ipython",
    "version": 3
   },
   "file_extension": ".py",
   "mimetype": "text/x-python",
   "name": "python",
   "nbconvert_exporter": "python",
   "pygments_lexer": "ipython3",
   "version": "3.8.1"
  }
 },
 "nbformat": 4,
 "nbformat_minor": 2
}
